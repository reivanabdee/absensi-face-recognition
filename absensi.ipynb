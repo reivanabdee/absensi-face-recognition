{
 "cells": [
  {
   "cell_type": "code",
   "execution_count": 1,
   "metadata": {},
   "outputs": [
    {
     "name": "stdout",
     "output_type": "stream",
     "text": [
      "Absensi-1\t18:48:13\n"
     ]
    }
   ],
   "source": [
    "import cv2\n",
    "import numpy as np\n",
    "import csv\n",
    "import time\n",
    "from datetime import datetime\n",
    "from playsound import playsound\n",
    "\n",
    "video = cv2.VideoCapture(0)\n",
    "#'https://192.168.184.13:8080/video'\n",
    "cascadeModel = cv2.data.haarcascades + \"haarcascade_frontalface_alt.xml\"\n",
    "cascadeWajah = cv2.CascadeClassifier(cascadeModel)\n",
    "img_counter = 0\n",
    "area = [(212,121),(212,387),(438,387),(438,121)]\n",
    "data = []\n",
    "\n",
    "def countdownTimer(start_minute, start_second):\n",
    "    total_second = start_minute * 60 + start_second\n",
    "    while total_second:\n",
    "        mins, secs = divmod(total_second, 60)\n",
    "        print(f'{mins:02d}:{secs:02d}', end='\\r')\n",
    "        time.sleep(1)\n",
    "        total_second -= 1\n",
    "    print(\"done!\")\n",
    "\n",
    "\n",
    "# def garis():\n",
    "#     for areas in [area]:\n",
    "#         if (x,y,w,h) in wajah:\n",
    "#             cv2.polylines(frame, [np.array(areas, np.int32)], True, (0,255,0), 6)\n",
    "\n",
    "#         if (x,y,w,h) not in wajah:\n",
    "#             cv2.polylines(frame, [np.array(areas, np.int32)], True, (255,0,0), 4)\n",
    "\n",
    "\n",
    "now = datetime.now()\n",
    "now = now.strftime(\"%H:%M:%S\") \n",
    "\n",
    "while True:\n",
    "    f = open('data.csv', 'a', newline='')\n",
    "    ret, frame = video.read()\n",
    "    # height, width, _ = frame.shape\n",
    "    # print (height, width)\n",
    "    #roi = frame[212: 387,121: 438] [y1:y2,x1:x2]\n",
    "    frame = cv2.resize(frame, (640, 480), interpolation= cv2.INTER_LINEAR)\n",
    "    roi = frame[121: 387,212: 438]\n",
    "    gray = cv2.cvtColor(roi, cv2.COLOR_BGR2GRAY)\n",
    "    wajah = cascadeWajah.detectMultiScale(gray, 1.29,6)\n",
    "    # garis()\n",
    "    for areas in [area]:\n",
    "        cv2.polylines(frame, [np.array(areas, np.int32)], True, (0,255,0), 4)\n",
    "         \n",
    "\n",
    "    for (x,y,w,h) in wajah:    \n",
    "        img_counter += 1\n",
    "        # cv2.rectangle(roi, (x,y), (x+w, y+h), (0,255,0),2)\n",
    "        # img_name = \"gambar/opencv_frame_{}.png\".format(img_counter)\n",
    "        # cv2.imwrite(img_name, roi)    \n",
    "        print(f'Absensi-{img_counter}\\t{now}')\n",
    "        # print(\"{} written!\".format(img_name)\n",
    "        # data_masuk=['najajy', ]\n",
    "        data_masuk = []\n",
    "        data_masuk.append(f'Absensi-{img_counter}\\t{now}')\n",
    "        baca = csv.writer(f)\n",
    "        baca.writerow(data_masuk)\n",
    "        f.close()   \n",
    "        cv2.destroyWindow(\"frame2\")\n",
    "        time.sleep(2)\n",
    "        # playsound(\"warn.mp3\")\n",
    "        break\n",
    "    \n",
    "    cv2.imshow(\"frame2\", frame)\n",
    "    # print(wajah)\n",
    "    if cv2.waitKey(1) & 0xFF == ord ('q'):\n",
    "        break\n",
    "        \n",
    "video.release() \n",
    "cv2.destroyAllWindows()"
   ]
  },
  {
   "cell_type": "code",
   "execution_count": 3,
   "metadata": {},
   "outputs": [
    {
     "data": {
      "text/plain": [
       "[]"
      ]
     },
     "execution_count": 3,
     "metadata": {},
     "output_type": "execute_result"
    }
   ],
   "source": [
    "data"
   ]
  },
  {
   "cell_type": "code",
   "execution_count": 76,
   "metadata": {},
   "outputs": [
    {
     "name": "stdout",
     "output_type": "stream",
     "text": [
      "15:38:08\n"
     ]
    },
    {
     "data": {
      "text/plain": [
       "'15:38:08'"
      ]
     },
     "execution_count": 76,
     "metadata": {},
     "output_type": "execute_result"
    }
   ],
   "source": [
    "        for dt in data:\n",
    "            if len(dt) >1:\n",
    "                data_masuk.append(data)\n",
    "                time.sleep(2)\n",
    "                baca = csv.writer(f)\n",
    "                baca.writerow(data_masuk)\n",
    "                f.close()\n",
    "                break"
   ]
  },
  {
   "cell_type": "code",
   "execution_count": 4,
   "metadata": {},
   "outputs": [
    {
     "name": "stdout",
     "output_type": "stream",
     "text": [
      "08:58:28\n",
      "8\n"
     ]
    }
   ],
   "source": [
    "print(now)\n",
    "now[6:]\n",
    "\n",
    "detik = []\n",
    "detik.append(now[7:])\n",
    "\n",
    "for i in detik:\n",
    "    int(i)-20\n",
    "    print(i)\n"
   ]
  },
  {
   "cell_type": "code",
   "execution_count": 24,
   "metadata": {},
   "outputs": [
    {
     "name": "stdout",
     "output_type": "stream",
     "text": [
      "00:03\r"
     ]
    },
    {
     "ename": "KeyboardInterrupt",
     "evalue": "",
     "output_type": "error",
     "traceback": [
      "\u001b[1;31m---------------------------------------------------------------------------\u001b[0m",
      "\u001b[1;31mKeyboardInterrupt\u001b[0m                         Traceback (most recent call last)",
      "\u001b[1;32mc:\\Users\\XD\\Documents\\Project\\Project semester 6\\absensi.ipynb Cell 5'\u001b[0m in \u001b[0;36m<cell line: 91>\u001b[1;34m()\u001b[0m\n\u001b[0;32m    <a href='vscode-notebook-cell:/c%3A/Users/XD/Documents/Project/Project%20semester%206/absensi.ipynb#ch0000004?line=109'>110</a>\u001b[0m mins, secs \u001b[39m=\u001b[39m \u001b[39mdivmod\u001b[39m(total_second, \u001b[39m60\u001b[39m)\n\u001b[0;32m    <a href='vscode-notebook-cell:/c%3A/Users/XD/Documents/Project/Project%20semester%206/absensi.ipynb#ch0000004?line=110'>111</a>\u001b[0m \u001b[39mprint\u001b[39m(\u001b[39mf\u001b[39m\u001b[39m'\u001b[39m\u001b[39m{\u001b[39;00mmins\u001b[39m:\u001b[39;00m\u001b[39m02d\u001b[39m\u001b[39m}\u001b[39;00m\u001b[39m:\u001b[39m\u001b[39m{\u001b[39;00msecs\u001b[39m:\u001b[39;00m\u001b[39m02d\u001b[39m\u001b[39m}\u001b[39;00m\u001b[39m'\u001b[39m, end\u001b[39m=\u001b[39m\u001b[39m'\u001b[39m\u001b[39m\\r\u001b[39;00m\u001b[39m'\u001b[39m)\n\u001b[1;32m--> <a href='vscode-notebook-cell:/c%3A/Users/XD/Documents/Project/Project%20semester%206/absensi.ipynb#ch0000004?line=111'>112</a>\u001b[0m time\u001b[39m.\u001b[39;49msleep(\u001b[39m1\u001b[39;49m)\n\u001b[0;32m    <a href='vscode-notebook-cell:/c%3A/Users/XD/Documents/Project/Project%20semester%206/absensi.ipynb#ch0000004?line=112'>113</a>\u001b[0m total_second \u001b[39m-\u001b[39m\u001b[39m=\u001b[39m \u001b[39m1\u001b[39m\n\u001b[0;32m    <a href='vscode-notebook-cell:/c%3A/Users/XD/Documents/Project/Project%20semester%206/absensi.ipynb#ch0000004?line=114'>115</a>\u001b[0m \u001b[39mif\u001b[39;00m total_second \u001b[39m==\u001b[39m \u001b[39mTrue\u001b[39;00m: \n",
      "\u001b[1;31mKeyboardInterrupt\u001b[0m: "
     ]
    }
   ],
   "source": [
    "import cv2\n",
    "import numpy as np\n",
    "import csv\n",
    "# import openpyxl\n",
    "import time\n",
    "# from openpyxl import Workbook, load_workbook\n",
    "from datetime import datetime\n",
    "#from openpyxl.styles import Font,Alignment,Border,Side\n",
    "\n",
    "video = cv2.VideoCapture(0)\n",
    "#'https://192.168.184.13:8080/video'\n",
    "cascadeModel = cv2.data.haarcascades + \"haarcascade_frontalface_alt.xml\"\n",
    "cascadeWajah = cv2.CascadeClassifier(cascadeModel)\n",
    "\n",
    "#------------pomodoro------------\n",
    "# def countdownTimer(start_minute, start_second):\n",
    "#     total_second = 00 * 60 + 3\n",
    "#     while total_second:\n",
    "#         mins, secs = divmod(total_second, 60)\n",
    "#         print(f'{mins:02d}:{secs:02d}', end='\\r')\n",
    "#         time.sleep(1)\n",
    "#         total_second -= 1\n",
    "\n",
    "#     print(\"Done!\")\n",
    "    \n",
    "\n",
    "# if _name_ == '_main_':\n",
    "#     countdownTimer(00,3) #pomodoro timer\n",
    "\n",
    "#--------------------------\n",
    "\n",
    "# wb = openpyxl.load_workbook(\"absen.xlsx\")\n",
    "\n",
    "# sheet = wb.active\n",
    "\n",
    "#---------------------------------s---------------------------------\n",
    "#styling untuk font excel\n",
    "# font = Font(bold = True)# no warna\n",
    "# font0 = Font(color = 'FF0000',bold=True)#warna merah\n",
    "# font11 = Font(color = '808080',bold = True)#warna abu-abu\n",
    "# font22 = Font(color = '00FF00',bold = True)#Warna Hijau\n",
    "\n",
    "# #Styling utuk Border excel\n",
    "# border = Border(left=Side(border_style ='thin',color = '00000000'),#menentukan border kiri\n",
    "#                 right=Side(border_style ='thin',color = '00000000'),#menentukan border kanan\n",
    "#                 top=Side(border_style ='thin',color = '00000000'),#menentukan border atas\n",
    "#                 bottom=Side(border_style ='thin',color = '00000000'))#menentukan border atas\n",
    "\n",
    "# alignment = Alignment(horizontal = 'center',vertical = 'center')\n",
    "# #alignment fungsi nya untuk menentukan letak text pada excel\n",
    "\n",
    "#------------------------------------------------------------------\n",
    "\n",
    "# sheet['A1'] = 'No'\n",
    "# A1 = sheet['A1']\n",
    "# A1.font = font\n",
    "# A1.border = border\n",
    "# A1.alignment = alignment\n",
    "\n",
    "# sheet['B1'] = 'Nama'\n",
    "# B1 = sheet['B1']\n",
    "# B1.font = font\n",
    "# B1.border = border\n",
    "# B1.alignment = alignment\n",
    "\n",
    "# sheet['C1'] = 'Tanggal'\n",
    "# C1 = sheet['C1']\n",
    "# C1.font = font\n",
    "# C1.border = border\n",
    "# C1.alignment = alignment\n",
    "\n",
    "# sheet['D1'] = 'Jam'\n",
    "# D1 = sheet['D1']\n",
    "# D1.font = font\n",
    "# D1.border = border\n",
    "# D1.alignment = alignment\n",
    "\n",
    "\n",
    "# ------------time---------------\n",
    "waktu = datetime.now ()\n",
    "jam = waktu.strftime ( \"%H:%M:%S\" )\n",
    "tanggal = waktu.strftime (\"%d/%m/%y\")\n",
    "\n",
    "# #--------------nuber xcel------------------\n",
    "# num = 0 \n",
    "# num = num + 1\n",
    "# sheetnum = num + 1\n",
    "\n",
    "while True:\n",
    "\n",
    "    f = open(\"baru.csv\",\"a\",newline=\"\") #CSV Create file\n",
    "   \n",
    "    ret, frame = video.read()\n",
    "    area = [(212,121),(212,387),(438,387),(438,121)]\n",
    "\n",
    "    font = cv2.FONT_HERSHEY_COMPLEX\n",
    "    # height, width, _ = frame.shape\n",
    "    # print (height, width)\n",
    "    for areas in [area]:\n",
    "        cv2.polylines(frame, [np.array(areas, np.int32)], True, (255,0,0), 5)\n",
    "    #roi = frame[212: 387,121: 438] [y1:y2,x1:x2]\n",
    "    roi = frame[121: 387,212: 438]\n",
    "    gray = cv2.cvtColor(roi, cv2.COLOR_BGR2GRAY)\n",
    "    wajah = cascadeWajah.detectMultiScale(gray, 1.29,6)\n",
    " \n",
    "    for (x,y,w,h) in wajah:\n",
    "\n",
    "        total_second = 00 * 60 + 6\n",
    "        while total_second:\n",
    "            mins, secs = divmod(total_second, 60)\n",
    "            print(f'{mins:02d}:{secs:02d}', end='\\r')\n",
    "            time.sleep(1)\n",
    "            total_second -= 1\n",
    "\n",
    "            if total_second == True: \n",
    "                cv2.rectangle(roi, (x,y), (x+w, y+h), (0,255,0),2)\n",
    "                cv2.putText(frame,'Rizki zulkarnaen',(22,280),font,0.5,(255,0,0))\n",
    "                if True:\n",
    "                    # -------------------Csv-----------------\n",
    "                    data = (\"Rizki\",tanggal,jam) \n",
    "                    writer = csv.writer(f)\n",
    "                    writer.writerow(data)\n",
    "                    f.close()\n",
    "\n",
    "                    #----------------------excel input ----------\n",
    "                    # sheet['A'+str(sheetnum)] = num\n",
    "                    # DataNO = sheet['A'+str(sheetnum)]\n",
    "                    # DataNO.border = border\n",
    "                    # DataNO.alignment = alignment\n",
    "\n",
    "                    # sheet['B'+str(sheetnum)] = \"Rizki zulkarnaen\"\n",
    "                    # DataNama = sheet['B'+str(sheetnum)]\n",
    "                    # DataNama.border = border\n",
    "                    # DataNama.alignment = alignment\n",
    "\n",
    "                    # sheet['C'+str(sheetnum)] = tanggal\n",
    "                    # DataTanggal = sheet['C'+str(sheetnum)]\n",
    "                    # DataTanggal.border = border\n",
    "                    # DataTanggal.alignment = alignment\n",
    "\n",
    "                    # sheet['D'+str(sheetnum)] = jam\n",
    "                    # DataJam = sheet['D'+str(sheetnum)]\n",
    "                    # DataJam.border = border\n",
    "                    # DataJam.alignment = alignment\n",
    "\n",
    "\n",
    "                    # wb.save(\"absen.xlsx\")\n",
    "\n",
    "                    cv2.destroyWindow(\"frame2\")\n",
    "                    time.sleep(3)\n",
    "                    # wb.close()\n",
    "                \n",
    "                    # print (\"terdeteksi\")\n",
    "                    \n",
    "    cv2.imshow(\"frame2\", frame)\n",
    "    #cv2.imshow(\"roio\", roi)\n",
    "    #print(wajah)\n",
    "    if cv2.waitKey(1) & 0xFF == ord ('q'):\n",
    "        break\n",
    "\n",
    "video.release()\n",
    "cv2.destroyAllWindows()"
   ]
  },
  {
   "cell_type": "code",
   "execution_count": null,
   "metadata": {},
   "outputs": [],
   "source": []
  }
 ],
 "metadata": {
  "interpreter": {
   "hash": "14747ab597fccb0988bccd7cde842ad47421dddd6632a6f0b9003d04b1f65117"
  },
  "kernelspec": {
   "display_name": "Python 3.8.7rc1 64-bit",
   "language": "python",
   "name": "python3"
  },
  "language_info": {
   "codemirror_mode": {
    "name": "ipython",
    "version": 3
   },
   "file_extension": ".py",
   "mimetype": "text/x-python",
   "name": "python",
   "nbconvert_exporter": "python",
   "pygments_lexer": "ipython3",
   "version": "3.8.7rc1"
  }
 },
 "nbformat": 4,
 "nbformat_minor": 4
}
